{
 "cells": [
  {
   "cell_type": "markdown",
   "metadata": {},
   "source": [
    "# Python MySQL \n",
    "### Author: Ben"
   ]
  },
  {
   "cell_type": "markdown",
   "metadata": {},
   "source": [
    "## Working with databases"
   ]
  },
  {
   "cell_type": "code",
   "execution_count": 21,
   "metadata": {},
   "outputs": [
    {
     "name": "stdout",
     "output_type": "stream",
     "text": [
      "('information_schema',)\n",
      "('mysql',)\n",
      "('performance_schema',)\n",
      "('sakila',)\n",
      "('sys',)\n",
      "('world',)\n"
     ]
    }
   ],
   "source": [
    "import mysql.connector\n",
    "\n",
    "mydb = mysql.connector.connect(host=\"localhost\", user=\"ben\", passwd=\"passw0rd\")\n",
    "mycursor = mydb.cursor()\n",
    "\n",
    "# Print list of databases\n",
    "mycursor.execute(\"SHOW DATABASES\")\n",
    "for x in mycursor: print(x)"
   ]
  },
  {
   "cell_type": "code",
   "execution_count": 25,
   "metadata": {},
   "outputs": [
    {
     "name": "stdout",
     "output_type": "stream",
     "text": [
      "('dbtest',)\n",
      "('information_schema',)\n",
      "('mysql',)\n",
      "('performance_schema',)\n",
      "('sakila',)\n",
      "('sys',)\n",
      "('world',)\n"
     ]
    }
   ],
   "source": [
    "# Create a database\n",
    "mycursor.execute(\"CREATE DATABASE dbtest\")\n",
    "\n",
    "# Print list of databases\n",
    "mycursor.execute(\"SHOW DATABASES\")\n",
    "for x in mycursor: print(x)"
   ]
  },
  {
   "cell_type": "code",
   "execution_count": 23,
   "metadata": {},
   "outputs": [
    {
     "name": "stdout",
     "output_type": "stream",
     "text": [
      "('information_schema',)\n",
      "('mysql',)\n",
      "('performance_schema',)\n",
      "('sakila',)\n",
      "('sys',)\n",
      "('world',)\n"
     ]
    }
   ],
   "source": [
    "# Drop a database\n",
    "mycursor.execute(\"DROP DATABASE dbtest\")\n",
    "\n",
    "# Print list of databases\n",
    "mycursor.execute(\"SHOW DATABASES\")\n",
    "for x in mycursor: print(x)"
   ]
  },
  {
   "cell_type": "markdown",
   "metadata": {},
   "source": [
    "## Working with tables"
   ]
  },
  {
   "cell_type": "code",
   "execution_count": 31,
   "metadata": {},
   "outputs": [],
   "source": [
    "import mysql.connector\n",
    "\n",
    "mydb = mysql.connector.connect(host=\"localhost\", user=\"ben\", passwd=\"passw0rd\", database=\"dbtest\")\n",
    "mycursor = mydb.cursor()"
   ]
  },
  {
   "cell_type": "code",
   "execution_count": 56,
   "metadata": {},
   "outputs": [],
   "source": [
    "# Print table in a database\n",
    "mycursor.execute(\"SHOW TABLES\")\n",
    "for x in mycursor: print(\"List of tables: \", x)"
   ]
  },
  {
   "cell_type": "code",
   "execution_count": 57,
   "metadata": {},
   "outputs": [
    {
     "name": "stdout",
     "output_type": "stream",
     "text": [
      "After create table: ('sessionid',)\n"
     ]
    }
   ],
   "source": [
    "# Create table in a database, check if table exist\n",
    "mycursor.execute(\"SHOW TABLES\")\n",
    "for x in mycursor: print(\"List of tables: \", x)\n",
    "\n",
    "mycursor.execute(\"CREATE TABLE sessionid (sessionid VARCHAR (255) PRIMARY KEY, name VARCHAR(255), username VARCHAR(255), address VARCHAR(255))\")\n",
    "mycursor.execute(\"SHOW TABLES\")\n",
    "for x in mycursor: print(\"After create table:\", x)"
   ]
  },
  {
   "cell_type": "code",
   "execution_count": 55,
   "metadata": {},
   "outputs": [
    {
     "name": "stdout",
     "output_type": "stream",
     "text": [
      "Before drop table: ('sessionid',)\n"
     ]
    }
   ],
   "source": [
    "# Drop table in a database\n",
    "mycursor.execute(\"SHOW TABLES\")\n",
    "for x in mycursor: print(\"Before drop table:\", x)\n",
    "mycursor.execute(\"DROP TABLE IF EXISTS sessionid\")\n",
    "mycursor.execute(\"SHOW TABLES\")\n",
    "for x in mycursor: print(\"After drop table:\", x)"
   ]
  },
  {
   "cell_type": "markdown",
   "metadata": {},
   "source": [
    "### Working with records"
   ]
  },
  {
   "cell_type": "code",
   "execution_count": 85,
   "metadata": {},
   "outputs": [
    {
     "name": "stdout",
     "output_type": "stream",
     "text": [
      "Record:  ('234fd', 'ghdfgh', 'dafff', 'aassdf')\n",
      "Record:  ('d344adf', 'ghdfgh', 'dafff', 'aassdf')\n"
     ]
    }
   ],
   "source": [
    "# Print records from DB: db_test with TABLE: sessionid\n",
    "mycursor.execute(\"SELECT * FROM sessionid\")\n",
    "for x in mycursor: print(\"Record: \", x)"
   ]
  },
  {
   "cell_type": "code",
   "execution_count": 117,
   "metadata": {},
   "outputs": [
    {
     "name": "stdout",
     "output_type": "stream",
     "text": [
      "Before inserting record:  ('ds324f343', 'ZWE', 'distrct 3', '11642')\n",
      "Before inserting record:  ('dsf343', 'ZWE', 'distrct 3', '11642')\n",
      "Before inserting record:  ('fds34', 'PSE', 'distrct 2', '15642')\n",
      "Before inserting record:  ('fds344', 'PSE', 'distrct 2', '15642')\n",
      "1 record inserted.\n",
      "After inserting record:  ('d34dfaf', 'ghdfgh', 'dafff', 'aassdf')\n",
      "After inserting record:  ('ds324f343', 'ZWE', 'distrct 3', '11642')\n",
      "After inserting record:  ('dsf343', 'ZWE', 'distrct 3', '11642')\n",
      "After inserting record:  ('fds34', 'PSE', 'distrct 2', '15642')\n",
      "After inserting record:  ('fds344', 'PSE', 'distrct 2', '15642')\n"
     ]
    }
   ],
   "source": [
    "# Before inserting ONE record\n",
    "mycursor.execute(\"SELECT * FROM sessionid\")\n",
    "for x in mycursor: print(\"Before inserting record: \", x)\n",
    "\n",
    "# Insert new record\n",
    "sql = \"INSERT INTO sessionid (sessionid, name, username, address) VALUES (%s, %s, %s, %s)\"\n",
    "val = ('d34dfaf', 'ghdfgh', 'dafff', 'aassdf')\n",
    "mycursor.execute(sql, val)\n",
    "mydb.commit()\n",
    "print(mycursor.rowcount, \"record inserted.\")\n",
    "\n",
    "# After inserting record\n",
    "mycursor.execute(\"SELECT * FROM sessionid\")\n",
    "for x in mycursor: print(\"After inserting record: \", x)"
   ]
  },
  {
   "cell_type": "code",
   "execution_count": 101,
   "metadata": {},
   "outputs": [
    {
     "name": "stdout",
     "output_type": "stream",
     "text": [
      "Before inserting records:  ('234fd', 'ghdfgh', 'dafff', 'aassdf')\n",
      "Before inserting records:  ('3434', 'MAC', 'distrct 1', '16822')\n",
      "Before inserting records:  ('44fdfs', 'USA', 'distrct 4', '14612')\n",
      "Before inserting records:  ('53fadsf', 'USA', 'distrct 5', '17672')\n",
      "Before inserting records:  ('d344adf', 'ghdfgh', 'dafff', 'aassdf')\n",
      "Before inserting records:  ('d34dfa4adf', 'ghdfgh', 'dafff', 'aassdf')\n",
      "Before inserting records:  ('d34dfaf', 'ghdfgh', 'dafff', 'aassdf')\n",
      "Before inserting records:  ('dsf343', 'ZWE', 'distrct 3', '11642')\n",
      "Before inserting records:  ('fds34', 'PSE', 'distrct 2', '15642')\n",
      "Records to be added:  [('34342344', 'MAC', 'distrct 1', '16822'), ('fds344', 'PSE', 'distrct 2', '15642'), ('ds324f343', 'ZWE', 'distrct 3', '11642'), ('44fd324fs', 'USA', 'distrct 4', '14612'), ('53fa342dsf', 'USA', 'distrct 5', '17672')]\n",
      "5 record inserted.\n",
      "After inserting records:  ('234fd', 'ghdfgh', 'dafff', 'aassdf')\n",
      "After inserting records:  ('3434', 'MAC', 'distrct 1', '16822')\n",
      "After inserting records:  ('34342344', 'MAC', 'distrct 1', '16822')\n",
      "After inserting records:  ('44fd324fs', 'USA', 'distrct 4', '14612')\n",
      "After inserting records:  ('44fdfs', 'USA', 'distrct 4', '14612')\n",
      "After inserting records:  ('53fa342dsf', 'USA', 'distrct 5', '17672')\n",
      "After inserting records:  ('53fadsf', 'USA', 'distrct 5', '17672')\n",
      "After inserting records:  ('d344adf', 'ghdfgh', 'dafff', 'aassdf')\n",
      "After inserting records:  ('d34dfa4adf', 'ghdfgh', 'dafff', 'aassdf')\n",
      "After inserting records:  ('d34dfaf', 'ghdfgh', 'dafff', 'aassdf')\n",
      "After inserting records:  ('ds324f343', 'ZWE', 'distrct 3', '11642')\n",
      "After inserting records:  ('dsf343', 'ZWE', 'distrct 3', '11642')\n",
      "After inserting records:  ('fds34', 'PSE', 'distrct 2', '15642')\n",
      "After inserting records:  ('fds344', 'PSE', 'distrct 2', '15642')\n"
     ]
    }
   ],
   "source": [
    "# Before inserting MULTIPLE records\n",
    "mycursor.execute(\"SELECT * FROM sessionid\")\n",
    "for x in mycursor: print(\"Before inserting records: \", x)\n",
    "\n",
    "# Insert new records\n",
    "sql = \"INSERT INTO sessionid (sessionid, name, username, address) VALUES (%s, %s, %s, %s)\"\n",
    "val =  [\n",
    "('34342344', 'MAC', 'distrct 1', '16822'),\n",
    "('fds344', 'PSE', 'distrct 2', '15642'),\n",
    "('ds324f343', 'ZWE', 'distrct 3', '11642'),\n",
    "('44fd324fs', 'USA', 'distrct 4', '14612'),\n",
    "('53fa342dsf', 'USA', 'distrct 5', '17672'),\n",
    "]\n",
    "\n",
    "print(\"Records to be added: \", val)\n",
    "\n",
    "# !!! Use .executemany, instead of .execute !!!\n",
    "mycursor.executemany(sql, val)\n",
    "\n",
    "mydb.commit()\n",
    "print(mycursor.rowcount, \"record inserted.\")\n",
    "\n",
    "# After inserting records\n",
    "mycursor.execute(\"SELECT * FROM sessionid\")\n",
    "for x in mycursor: print(\"After inserting records: \", x)"
   ]
  },
  {
   "cell_type": "code",
   "execution_count": 115,
   "metadata": {},
   "outputs": [
    {
     "name": "stdout",
     "output_type": "stream",
     "text": [
      "Before deleting records:  ('d344adf', 'ghdfgh', 'dafff', 'aassdf')\n",
      "Before deleting records:  ('d34dfa4adf', 'ghdfgh', 'dafff', 'aassdf')\n",
      "Before deleting records:  ('d34dfaf', 'ghdfgh', 'dafff', 'aassdf')\n",
      "Before deleting records:  ('ds324f343', 'ZWE', 'distrct 3', '11642')\n",
      "Before deleting records:  ('dsf343', 'ZWE', 'distrct 3', '11642')\n",
      "Before deleting records:  ('fds34', 'PSE', 'distrct 2', '15642')\n",
      "Before deleting records:  ('fds344', 'PSE', 'distrct 2', '15642')\n",
      "3 record deleted.\n",
      "After deleting records:  ('ds324f343', 'ZWE', 'distrct 3', '11642')\n",
      "After deleting records:  ('dsf343', 'ZWE', 'distrct 3', '11642')\n",
      "After deleting records:  ('fds34', 'PSE', 'distrct 2', '15642')\n",
      "After deleting records:  ('fds344', 'PSE', 'distrct 2', '15642')\n"
     ]
    }
   ],
   "source": [
    "# Before deleting records\n",
    "mycursor.execute(\"SELECT * FROM sessionid\")\n",
    "for x in mycursor: print(\"Before deleting records: \", x)\n",
    "\n",
    "# Insert new records\n",
    "mycursor.execute(\"DELETE FROM sessionid WHERE name = 'ghdfgh'\")\n",
    "mydb.commit()\n",
    "print(mycursor.rowcount, \"record deleted.\")\n",
    "\n",
    "# After deleting records\n",
    "mycursor.execute(\"SELECT * FROM sessionid\")\n",
    "for x in mycursor: print(\"After deleting records: \", x)"
   ]
  },
  {
   "cell_type": "code",
   "execution_count": 116,
   "metadata": {},
   "outputs": [
    {
     "name": "stdout",
     "output_type": "stream",
     "text": [
      "Record:  ('ds324f343', 'ZWE', 'distrct 3', '11642')\n",
      "Record:  ('dsf343', 'ZWE', 'distrct 3', '11642')\n",
      "Record:  ('fds34', 'PSE', 'distrct 2', '15642')\n",
      "Record:  ('fds344', 'PSE', 'distrct 2', '15642')\n"
     ]
    }
   ],
   "source": [
    "# Print records from DB: db_test with TABLE: sessionid\n",
    "mycursor.execute(\"SELECT * FROM sessionid\")\n",
    "for x in mycursor: print(\"Record: \", x)"
   ]
  },
  {
   "cell_type": "code",
   "execution_count": null,
   "metadata": {},
   "outputs": [],
   "source": []
  }
 ],
 "metadata": {
  "kernelspec": {
   "display_name": "Python 3",
   "language": "python",
   "name": "python3"
  },
  "language_info": {
   "codemirror_mode": {
    "name": "ipython",
    "version": 3
   },
   "file_extension": ".py",
   "mimetype": "text/x-python",
   "name": "python",
   "nbconvert_exporter": "python",
   "pygments_lexer": "ipython3",
   "version": "3.7.4"
  }
 },
 "nbformat": 4,
 "nbformat_minor": 4
}
